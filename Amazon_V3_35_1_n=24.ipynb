{
  "nbformat": 4,
  "nbformat_minor": 0,
  "metadata": {
    "colab": {
      "provenance": []
    },
    "kernelspec": {
      "name": "python3",
      "display_name": "Python 3"
    },
    "language_info": {
      "name": "python"
    }
  },
  "cells": [
    {
      "cell_type": "code",
      "execution_count": 274,
      "metadata": {
        "id": "oRNp1v5UJB9b",
        "colab": {
          "base_uri": "https://localhost:8080/"
        },
        "outputId": "9cc2553a-82bc-483e-dfe9-e36dd67e0c0b"
      },
      "outputs": [
        {
          "output_type": "stream",
          "name": "stdout",
          "text": [
            "Drive already mounted at /content/drive; to attempt to forcibly remount, call drive.mount(\"/content/drive\", force_remount=True).\n"
          ]
        }
      ],
      "source": [
        "from google.colab import drive\n",
        "drive.mount('/content/drive')"
      ]
    },
    {
      "cell_type": "code",
      "source": [
        "import numpy as np\n",
        "import pandas as pd\n",
        "from sklearn.preprocessing import StandardScaler, MinMaxScaler, RobustScaler, PolynomialFeatures, OneHotEncoder\n",
        "from scipy.sparse import hstack\n",
        "from scipy.sparse import csr_matrix\n",
        "from tensorflow.keras.layers import Dense\n",
        "from tensorflow.keras import Sequential\n",
        "\n",
        "\n",
        "samp = pd.read_csv('/content/drive/MyDrive/dataset/sample_submission.csv')\n",
        "train = pd.read_csv('/content/drive/MyDrive/dataset/train.csv')\n",
        "test = pd.read_csv('/content/drive/MyDrive/dataset/test.csv')"
      ],
      "metadata": {
        "id": "BrINmGqrOyPM"
      },
      "execution_count": 275,
      "outputs": []
    },
    {
      "cell_type": "code",
      "source": [
        "train.info()"
      ],
      "metadata": {
        "colab": {
          "base_uri": "https://localhost:8080/"
        },
        "id": "LwHungDoeKS7",
        "outputId": "cdaef17a-5637-4425-889d-09ce29271217"
      },
      "execution_count": 276,
      "outputs": [
        {
          "output_type": "stream",
          "name": "stdout",
          "text": [
            "<class 'pandas.core.frame.DataFrame'>\n",
            "RangeIndex: 2249698 entries, 0 to 2249697\n",
            "Data columns (total 6 columns):\n",
            " #   Column           Dtype  \n",
            "---  ------           -----  \n",
            " 0   PRODUCT_ID       int64  \n",
            " 1   TITLE            object \n",
            " 2   BULLET_POINTS    object \n",
            " 3   DESCRIPTION      object \n",
            " 4   PRODUCT_TYPE_ID  int64  \n",
            " 5   PRODUCT_LENGTH   float64\n",
            "dtypes: float64(1), int64(2), object(3)\n",
            "memory usage: 103.0+ MB\n"
          ]
        }
      ]
    },
    {
      "cell_type": "code",
      "source": [
        "train.isnull().sum()"
      ],
      "metadata": {
        "colab": {
          "base_uri": "https://localhost:8080/"
        },
        "id": "sXM8WeyUeVQZ",
        "outputId": "a7c8014c-9504-4104-f553-9e640c4cc7d2"
      },
      "execution_count": 277,
      "outputs": [
        {
          "output_type": "execute_result",
          "data": {
            "text/plain": [
              "PRODUCT_ID               0\n",
              "TITLE                   12\n",
              "BULLET_POINTS       837364\n",
              "DESCRIPTION        1157381\n",
              "PRODUCT_TYPE_ID          0\n",
              "PRODUCT_LENGTH           0\n",
              "dtype: int64"
            ]
          },
          "metadata": {},
          "execution_count": 277
        }
      ]
    },
    {
      "cell_type": "code",
      "source": [
        "train.columns.to_list()"
      ],
      "metadata": {
        "colab": {
          "base_uri": "https://localhost:8080/"
        },
        "id": "tRaw_AqWeyaL",
        "outputId": "cf8a75a6-0720-4dfd-9b26-2810bce3a52c"
      },
      "execution_count": 278,
      "outputs": [
        {
          "output_type": "execute_result",
          "data": {
            "text/plain": [
              "['PRODUCT_ID',\n",
              " 'TITLE',\n",
              " 'BULLET_POINTS',\n",
              " 'DESCRIPTION',\n",
              " 'PRODUCT_TYPE_ID',\n",
              " 'PRODUCT_LENGTH']"
            ]
          },
          "metadata": {},
          "execution_count": 278
        }
      ]
    },
    {
      "cell_type": "code",
      "source": [
        "y = train['PRODUCT_LENGTH']\n",
        "train.drop(['PRODUCT_LENGTH'], axis=1, inplace=True)"
      ],
      "metadata": {
        "id": "2vqizgeAe29l"
      },
      "execution_count": 279,
      "outputs": []
    },
    {
      "cell_type": "code",
      "source": [
        "cat_cols = train.select_dtypes(include=['object']).columns.to_list()\n",
        "num_cols = train.select_dtypes(exclude=['object']).columns.to_list()"
      ],
      "metadata": {
        "id": "kXcDPROnk-Da"
      },
      "execution_count": 280,
      "outputs": []
    },
    {
      "cell_type": "code",
      "source": [
        "from scipy.stats import mode\n",
        "\n",
        "for i in train.columns.to_list():\n",
        "  if i in cat_cols:\n",
        "    train[i].fillna(train[i].value_counts().idxmax(), inplace=True)\n",
        "  else:\n",
        "    train[i].fillna(np.mean(train[i]), inplace=True)"
      ],
      "metadata": {
        "id": "dlLKxKX9q27H"
      },
      "execution_count": 281,
      "outputs": []
    },
    {
      "cell_type": "code",
      "source": [
        "train.info()"
      ],
      "metadata": {
        "colab": {
          "base_uri": "https://localhost:8080/"
        },
        "id": "w1dzLQnFwmq0",
        "outputId": "b0d6516e-5c15-4609-e596-267420709fdc"
      },
      "execution_count": 282,
      "outputs": [
        {
          "output_type": "stream",
          "name": "stdout",
          "text": [
            "<class 'pandas.core.frame.DataFrame'>\n",
            "RangeIndex: 2249698 entries, 0 to 2249697\n",
            "Data columns (total 5 columns):\n",
            " #   Column           Dtype \n",
            "---  ------           ----- \n",
            " 0   PRODUCT_ID       int64 \n",
            " 1   TITLE            object\n",
            " 2   BULLET_POINTS    object\n",
            " 3   DESCRIPTION      object\n",
            " 4   PRODUCT_TYPE_ID  int64 \n",
            "dtypes: int64(2), object(3)\n",
            "memory usage: 85.8+ MB\n"
          ]
        }
      ]
    },
    {
      "cell_type": "code",
      "source": [
        "train.isnull().sum()"
      ],
      "metadata": {
        "colab": {
          "base_uri": "https://localhost:8080/"
        },
        "id": "eiDlkUNcwo7N",
        "outputId": "47030cac-7425-4441-a17e-27371104e8e4"
      },
      "execution_count": 283,
      "outputs": [
        {
          "output_type": "execute_result",
          "data": {
            "text/plain": [
              "PRODUCT_ID         0\n",
              "TITLE              0\n",
              "BULLET_POINTS      0\n",
              "DESCRIPTION        0\n",
              "PRODUCT_TYPE_ID    0\n",
              "dtype: int64"
            ]
          },
          "metadata": {},
          "execution_count": 283
        }
      ]
    },
    {
      "cell_type": "code",
      "source": [
        "len(train)"
      ],
      "metadata": {
        "colab": {
          "base_uri": "https://localhost:8080/"
        },
        "id": "7LyHdGaIzHPx",
        "outputId": "f0a8bdda-3e68-41bc-8f57-a36a890465cc"
      },
      "execution_count": 284,
      "outputs": [
        {
          "output_type": "execute_result",
          "data": {
            "text/plain": [
              "2249698"
            ]
          },
          "metadata": {},
          "execution_count": 284
        }
      ]
    },
    {
      "cell_type": "code",
      "source": [
        "from scipy.stats import mode"
      ],
      "metadata": {
        "id": "aG63gywWJQjA"
      },
      "execution_count": 285,
      "outputs": []
    },
    {
      "cell_type": "code",
      "source": [
        "oe = OneHotEncoder(handle_unknown='infrequent_if_exist')\n",
        "ms = RobustScaler()"
      ],
      "metadata": {
        "id": "uoYew3VrFtRA"
      },
      "execution_count": 286,
      "outputs": []
    },
    {
      "cell_type": "code",
      "source": [
        "train_cat = train.select_dtypes(include=['object'])\n",
        "train_num = train.select_dtypes(exclude=['object'])\n",
        "test_cat = test.select_dtypes(include=['object'])\n",
        "test_num = test.select_dtypes(exclude=['object'])"
      ],
      "metadata": {
        "id": "FD5cNBYWHtW8"
      },
      "execution_count": 287,
      "outputs": []
    },
    {
      "cell_type": "code",
      "source": [
        "del train\n",
        "del test"
      ],
      "metadata": {
        "id": "vwfZ6ASgIgW4"
      },
      "execution_count": 288,
      "outputs": []
    },
    {
      "cell_type": "code",
      "source": [
        "new_train_cat = oe.fit_transform(train_cat)\n",
        "new_test_cat = oe.transform(test_cat)"
      ],
      "metadata": {
        "id": "3d4GoWB9Ioih"
      },
      "execution_count": 289,
      "outputs": []
    },
    {
      "cell_type": "code",
      "source": [
        "new_train_num = ms.fit_transform(train_num)\n",
        "new_test_num = ms.transform(test_num)\n",
        "\"\"\"for col_index in range(new_test_num.shape[1]):\n",
        "  train_col_means = np.nanmean(new_train_num, axis=0)\n",
        "  test_col_means = np.nanmean(new_test_num, axis=0)\"\"\"\n"
      ],
      "metadata": {
        "colab": {
          "base_uri": "https://localhost:8080/",
          "height": 35
        },
        "id": "uLB_MqkeKPqV",
        "outputId": "d03d40e2-1d6f-42ec-b35f-bb56ab532ba4"
      },
      "execution_count": 290,
      "outputs": [
        {
          "output_type": "execute_result",
          "data": {
            "text/plain": [
              "'for col_index in range(new_test_num.shape[1]):\\n  train_col_means = np.nanmean(new_train_num, axis=0)\\n  test_col_means = np.nanmean(new_test_num, axis=0)'"
            ],
            "application/vnd.google.colaboratory.intrinsic+json": {
              "type": "string"
            }
          },
          "metadata": {},
          "execution_count": 290
        }
      ]
    },
    {
      "cell_type": "code",
      "source": [
        "del train_cat\n",
        "del train_num\n",
        "del test_cat\n",
        "del test_num"
      ],
      "metadata": {
        "id": "xzFWb39AxqSK"
      },
      "execution_count": 291,
      "outputs": []
    },
    {
      "cell_type": "code",
      "source": [
        "tr_num = csr_matrix(new_train_num)\n",
        "train_sparse = hstack([tr_num, new_train_cat])"
      ],
      "metadata": {
        "id": "pnbuNVCjKhv_"
      },
      "execution_count": 292,
      "outputs": []
    },
    {
      "cell_type": "code",
      "source": [
        "train_sparse.shape"
      ],
      "metadata": {
        "colab": {
          "base_uri": "https://localhost:8080/"
        },
        "id": "AqubmSXbO3gk",
        "outputId": "1a6f1462-fd00-4ec0-897d-dbe461e6592d"
      },
      "execution_count": 293,
      "outputs": [
        {
          "output_type": "execute_result",
          "data": {
            "text/plain": [
              "(2249698, 3921369)"
            ]
          },
          "metadata": {},
          "execution_count": 293
        }
      ]
    },
    {
      "cell_type": "code",
      "source": [
        "te_num = csr_matrix(new_test_num)\n",
        "test_sparse = hstack([te_num, new_test_cat])"
      ],
      "metadata": {
        "id": "LZY3eXuvPAZR"
      },
      "execution_count": 294,
      "outputs": []
    },
    {
      "cell_type": "code",
      "source": [
        "test_sparse.shape"
      ],
      "metadata": {
        "colab": {
          "base_uri": "https://localhost:8080/"
        },
        "id": "v89apUCnPIrd",
        "outputId": "d64dd967-a8cc-4935-e61d-02a317dcd06f"
      },
      "execution_count": 295,
      "outputs": [
        {
          "output_type": "execute_result",
          "data": {
            "text/plain": [
              "(734736, 3921369)"
            ]
          },
          "metadata": {},
          "execution_count": 295
        }
      ]
    },
    {
      "cell_type": "code",
      "source": [
        "print(train_sparse)"
      ],
      "metadata": {
        "colab": {
          "base_uri": "https://localhost:8080/"
        },
        "id": "kuFd4wtIz0xi",
        "outputId": "4583b968-8469-4859-e5d1-a69af7f5955a"
      },
      "execution_count": 296,
      "outputs": [
        {
          "output_type": "stream",
          "name": "stdout",
          "text": [
            "  (0, 0)\t0.28353900418669253\n",
            "  (0, 1)\t-0.20508666774663858\n",
            "  (0, 209800)\t1.0\n",
            "  (0, 2661102)\t1.0\n",
            "  (0, 3810604)\t1.0\n",
            "  (1, 0)\t0.781804707614318\n",
            "  (1, 1)\t-0.026081321885630972\n",
            "  (1, 1200571)\t1.0\n",
            "  (1, 2603081)\t1.0\n",
            "  (1, 3810604)\t1.0\n",
            "  (2, 0)\t0.8430210133994145\n",
            "  (2, 1)\t0.7485825368540417\n",
            "  (2, 1408669)\t1.0\n",
            "  (2, 2677297)\t1.0\n",
            "  (2, 3748305)\t1.0\n",
            "  (3, 0)\t0.06292462288125714\n",
            "  (3, 1)\t0.012959663048760733\n",
            "  (3, 87195)\t1.0\n",
            "  (3, 2689967)\t1.0\n",
            "  (3, 3380672)\t1.0\n",
            "  (4, 0)\t-0.8099597984259101\n",
            "  (4, 1)\t0.5177385387979913\n",
            "  (4, 1915249)\t1.0\n",
            "  (4, 2588845)\t1.0\n",
            "  (4, 3810604)\t1.0\n",
            "  :\t:\n",
            "  (2249693, 0)\t0.6145874758940437\n",
            "  (2249693, 1)\t0.015065608294184352\n",
            "  (2249693, 1335912)\t1.0\n",
            "  (2249693, 2232915)\t1.0\n",
            "  (2249693, 3810604)\t1.0\n",
            "  (2249694, 0)\t0.8440515326225615\n",
            "  (2249694, 1)\t0.08051190669042604\n",
            "  (2249694, 1796)\t1.0\n",
            "  (2249694, 3133750)\t1.0\n",
            "  (2249694, 3318480)\t1.0\n",
            "  (2249695, 0)\t0.3252287359652541\n",
            "  (2249695, 1)\t-0.2173983476429613\n",
            "  (2249695, 1019478)\t1.0\n",
            "  (2249695, 2489969)\t1.0\n",
            "  (2249695, 3870691)\t1.0\n",
            "  (2249696, 0)\t-0.22236000226487743\n",
            "  (2249696, 1)\t-0.37647821156649924\n",
            "  (2249696, 633422)\t1.0\n",
            "  (2249696, 2588845)\t1.0\n",
            "  (2249696, 3810604)\t1.0\n",
            "  (2249697, 0)\t-0.2843696812851181\n",
            "  (2249697, 1)\t0.7210432528754253\n",
            "  (2249697, 1715066)\t1.0\n",
            "  (2249697, 2455384)\t1.0\n",
            "  (2249697, 3740284)\t1.0\n"
          ]
        }
      ]
    },
    {
      "cell_type": "code",
      "source": [
        "model = Sequential([\n",
        "    Dense(units=10, activation='relu',input_shape=[2]),\n",
        "    Dense(units = 20, activation='relu'),\n",
        "    Dense(units = 20, activation='relu'),\n",
        "    Dense(units = 30, activation='relu'),\n",
        "    Dense(units = 40, activation='relu'),\n",
        "    Dense(units = 40, activation='relu'),\n",
        "    Dense(units = 30, activation='relu'),\n",
        "    Dense(units = 20, activation='relu'),\n",
        "    Dense(units = 1)\n",
        "])"
      ],
      "metadata": {
        "id": "kUIx3uXb2yCt"
      },
      "execution_count": 297,
      "outputs": []
    },
    {
      "cell_type": "code",
      "source": [
        "model.compile(\n",
        "    optimizer='adam',\n",
        "    loss='mae',\n",
        ")"
      ],
      "metadata": {
        "id": "T77HZcie4CYi"
      },
      "execution_count": 298,
      "outputs": []
    },
    {
      "cell_type": "code",
      "source": [
        "!pip install XGBoost"
      ],
      "metadata": {
        "colab": {
          "base_uri": "https://localhost:8080/"
        },
        "id": "sE1oCttx9v1-",
        "outputId": "b49b168e-927c-4778-8227-29a82fca99cc"
      },
      "execution_count": 299,
      "outputs": [
        {
          "output_type": "stream",
          "name": "stdout",
          "text": [
            "Looking in indexes: https://pypi.org/simple, https://us-python.pkg.dev/colab-wheels/public/simple/\n",
            "Requirement already satisfied: XGBoost in /usr/local/lib/python3.9/dist-packages (1.7.5)\n",
            "Requirement already satisfied: numpy in /usr/local/lib/python3.9/dist-packages (from XGBoost) (1.22.4)\n",
            "Requirement already satisfied: scipy in /usr/local/lib/python3.9/dist-packages (from XGBoost) (1.10.1)\n"
          ]
        }
      ]
    },
    {
      "cell_type": "code",
      "source": [
        "y.hist()"
      ],
      "metadata": {
        "colab": {
          "base_uri": "https://localhost:8080/",
          "height": 480
        },
        "id": "6a4RFBJrWBlD",
        "outputId": "4223964b-0ade-44d3-9cd8-2d0f61b217e7"
      },
      "execution_count": 300,
      "outputs": [
        {
          "output_type": "execute_result",
          "data": {
            "text/plain": [
              "<Axes: >"
            ]
          },
          "metadata": {},
          "execution_count": 300
        },
        {
          "output_type": "display_data",
          "data": {
            "text/plain": [
              "<Figure size 640x480 with 1 Axes>"
            ],
            "image/png": "[encoded data removed]"
          },
          "metadata": {}
        }
      ]
    },
    {
      "cell_type": "code",
      "source": [
        "from scipy.stats.mstats import normaltest\n",
        "pd.DataFrame(y).hist()"
      ],
      "metadata": {
        "colab": {
          "base_uri": "https://localhost:8080/",
          "height": 487
        },
        "id": "h7l9UKLbYGo7",
        "outputId": "22e0292f-f067-4caa-a848-c65bb5ff05ea"
      },
      "execution_count": 301,
      "outputs": [
        {
          "output_type": "execute_result",
          "data": {
            "text/plain": [
              "array([[<Axes: title={'center': 'PRODUCT_LENGTH'}>]], dtype=object)"
            ]
          },
          "metadata": {},
          "execution_count": 301
        },
        {
          "output_type": "display_data",
          "data": {
            "text/plain": [
              "<Figure size 640x480 with 1 Axes>"
            ],
            "image/png": "[encoded data removed]"
          },
          "metadata": {}
        }
      ]
    },
    {
      "cell_type": "code",
      "source": [
        "normaltest(pd.DataFrame(y))"
      ],
      "metadata": {
        "colab": {
          "base_uri": "https://localhost:8080/"
        },
        "id": "-F18OM97ZHKL",
        "outputId": "5dd0e604-d777-4e0c-d483-82124d699a3b"
      },
      "execution_count": 302,
      "outputs": [
        {
          "output_type": "stream",
          "name": "stderr",
          "text": [
            "/usr/local/lib/python3.9/dist-packages/scipy/stats/_mstats_basic.py:3015: RuntimeWarning: invalid value encountered in sqrt\n",
            "  sqrtbeta1 = 6.0*(n*n-5*n+2)/((n+7)*(n+9)) * np.sqrt((6.0*(n+3)*(n+5)) /\n"
          ]
        },
        {
          "output_type": "execute_result",
          "data": {
            "text/plain": [
              "NormaltestResult(statistic=masked_array(data=[--],\n",
              "             mask=[ True],\n",
              "       fill_value=1e+20,\n",
              "            dtype=float64), pvalue=array([0.]))"
            ]
          },
          "metadata": {},
          "execution_count": 302
        }
      ]
    },
    {
      "cell_type": "code",
      "source": [
        "from scipy.stats import boxcox\n",
        "bc_result = boxcox(y)\n",
        "boxcox_medv = bc_result[0]\n",
        "lam = bc_result[1]"
      ],
      "metadata": {
        "id": "Lm3zjCNWauUP"
      },
      "execution_count": 303,
      "outputs": []
    },
    {
      "cell_type": "code",
      "source": [
        "lam"
      ],
      "metadata": {
        "colab": {
          "base_uri": "https://localhost:8080/"
        },
        "id": "c-R0oePYdBpT",
        "outputId": "83a84f44-e73e-41e3-d599-c3716be7d827"
      },
      "execution_count": 304,
      "outputs": [
        {
          "output_type": "execute_result",
          "data": {
            "text/plain": [
              "0.03801480437319033"
            ]
          },
          "metadata": {},
          "execution_count": 304
        }
      ]
    },
    {
      "cell_type": "code",
      "source": [
        "boxcox_medv"
      ],
      "metadata": {
        "colab": {
          "base_uri": "https://localhost:8080/"
        },
        "id": "04s0o1HEa_Yc",
        "outputId": "4c5178d7-ed29-48f6-f4c4-85409226298a"
      },
      "execution_count": 305,
      "outputs": [
        {
          "output_type": "execute_result",
          "data": {
            "text/plain": [
              "array([8.89454703, 6.70874764, 7.52420528, ..., 8.13751765, 9.3124665 ,\n",
              "       8.8129016 ])"
            ]
          },
          "metadata": {},
          "execution_count": 305
        }
      ]
    },
    {
      "cell_type": "code",
      "source": [
        "import matplotlib.pyplot as plt\n",
        "plt.hist(boxcox_medv)"
      ],
      "metadata": {
        "colab": {
          "base_uri": "https://localhost:8080/",
          "height": 566
        },
        "id": "Gh9aUTLYbEoi",
        "outputId": "9433ade7-932a-41a2-c3b7-7ba5df583b96"
      },
      "execution_count": 306,
      "outputs": [
        {
          "output_type": "execute_result",
          "data": {
            "text/plain": [
              "(array([1.397500e+04, 2.720250e+05, 1.877381e+06, 8.344800e+04,\n",
              "        2.278000e+03, 3.170000e+02, 2.480000e+02, 1.900000e+01,\n",
              "        5.000000e+00, 2.000000e+00]),\n",
              " array([ 0.        ,  3.29396908,  6.58793817,  9.88190725, 13.17587633,\n",
              "        16.46984542, 19.7638145 , 23.05778358, 26.35175267, 29.64572175,\n",
              "        32.93969084]),\n",
              " <BarContainer object of 10 artists>)"
            ]
          },
          "metadata": {},
          "execution_count": 306
        },
        {
          "output_type": "display_data",
          "data": {
            "text/plain": [
              "<Figure size 640x480 with 1 Axes>"
            ],
            "image/png": "[encoded data removed]"
          },
          "metadata": {}
        }
      ]
    },
    {
      "cell_type": "code",
      "source": [
        "plt.boxplot(boxcox_medv)"
      ],
      "metadata": {
        "colab": {
          "base_uri": "https://localhost:8080/",
          "height": 569
        },
        "id": "BGiD61vScjHl",
        "outputId": "7d0e130f-b352-48ff-e3e6-452d6525827b"
      },
      "execution_count": 307,
      "outputs": [
        {
          "output_type": "execute_result",
          "data": {
            "text/plain": [
              "{'whiskers': [<matplotlib.lines.Line2D at 0x7f37fc13a670>,\n",
              "  <matplotlib.lines.Line2D at 0x7f37fc13a910>],\n",
              " 'caps': [<matplotlib.lines.Line2D at 0x7f37fc13aa90>,\n",
              "  <matplotlib.lines.Line2D at 0x7f37fc13ad30>],\n",
              " 'boxes': [<matplotlib.lines.Line2D at 0x7f37fc13a3d0>],\n",
              " 'medians': [<matplotlib.lines.Line2D at 0x7f37fc13afd0>],\n",
              " 'fliers': [<matplotlib.lines.Line2D at 0x7f37fc13b2b0>],\n",
              " 'means': []}"
            ]
          },
          "metadata": {},
          "execution_count": 307
        },
        {
          "output_type": "display_data",
          "data": {
            "text/plain": [
              "<Figure size 640x480 with 1 Axes>"
            ],
            "image/png": "[encoded data removed]"
          },
          "metadata": {}
        }
      ]
    },
    {
      "cell_type": "code",
      "source": [
        "import xgboost as xgb\n",
        "model = xgb.XGBRegressor(n_estimators=26, learning_rate=0.1)\n",
        "model.fit(train_sparse,boxcox_medv )"
      ],
      "metadata": {
        "colab": {
          "base_uri": "https://localhost:8080/",
          "height": 249
        },
        "id": "1yFsZYUr4GO4",
        "outputId": "99606745-1633-4176-f15a-2ddc8f41f0c1"
      },
      "execution_count": 308,
      "outputs": [
        {
          "output_type": "execute_result",
          "data": {
            "text/plain": [
              "XGBRegressor(base_score=None, booster=None, callbacks=None,\n",
              "             colsample_bylevel=None, colsample_bynode=None,\n",
              "             colsample_bytree=None, early_stopping_rounds=None,\n",
              "             enable_categorical=False, eval_metric=None, feature_types=None,\n",
              "             gamma=None, gpu_id=None, grow_policy=None, importance_type=None,\n",
              "             interaction_constraints=None, learning_rate=0.1, max_bin=None,\n",
              "             max_cat_threshold=None, max_cat_to_onehot=None,\n",
              "             max_delta_step=None, max_depth=None, max_leaves=None,\n",
              "             min_child_weight=None, missing=nan, monotone_constraints=None,\n",
              "             n_estimators=26, n_jobs=None, num_parallel_tree=None,\n",
              "             predictor=None, random_state=None, ...)"
            ],
            "text/html": [
              "<style>#sk-container-id-8 {color: black;background-color: white;}#sk-container-id-8 pre{padding: 0;}#sk-container-id-8 div.sk-toggleable {background-color: white;}#sk-container-id-8 label.sk-toggleable__label {cursor: pointer;display: block;width: 100%;margin-bottom: 0;padding: 0.3em;box-sizing: border-box;text-align: center;}#sk-container-id-8 label.sk-toggleable__label-arrow:before {content: \"▸\";float: left;margin-right: 0.25em;color: #696969;}#sk-container-id-8 label.sk-toggleable__label-arrow:hover:before {color: black;}#sk-container-id-8 div.sk-estimator:hover label.sk-toggleable__label-arrow:before {color: black;}#sk-container-id-8 div.sk-toggleable__content {max-height: 0;max-width: 0;overflow: hidden;text-align: left;background-color: #f0f8ff;}#sk-container-id-8 div.sk-toggleable__content pre {margin: 0.2em;color: black;border-radius: 0.25em;background-color: #f0f8ff;}#sk-container-id-8 input.sk-toggleable__control:checked~div.sk-toggleable__content {max-height: 200px;max-width: 100%;overflow: auto;}#sk-container-id-8 input.sk-toggleable__control:checked~label.sk-toggleable__label-arrow:before {content: \"▾\";}#sk-container-id-8 div.sk-estimator input.sk-toggleable__control:checked~label.sk-toggleable__label {background-color: #d4ebff;}#sk-container-id-8 div.sk-label input.sk-toggleable__control:checked~label.sk-toggleable__label {background-color: #d4ebff;}#sk-container-id-8 input.sk-hidden--visually {border: 0;clip: rect(1px 1px 1px 1px);clip: rect(1px, 1px, 1px, 1px);height: 1px;margin: -1px;overflow: hidden;padding: 0;position: absolute;width: 1px;}#sk-container-id-8 div.sk-estimator {font-family: monospace;background-color: #f0f8ff;border: 1px dotted black;border-radius: 0.25em;box-sizing: border-box;margin-bottom: 0.5em;}#sk-container-id-8 div.sk-estimator:hover {background-color: #d4ebff;}#sk-container-id-8 div.sk-parallel-item::after {content: \"\";width: 100%;border-bottom: 1px solid gray;flex-grow: 1;}#sk-container-id-8 div.sk-label:hover label.sk-toggleable__label {background-color: #d4ebff;}#sk-container-id-8 div.sk-serial::before {content: \"\";position: absolute;border-left: 1px solid gray;box-sizing: border-box;top: 0;bottom: 0;left: 50%;z-index: 0;}#sk-container-id-8 div.sk-serial {display: flex;flex-direction: column;align-items: center;background-color: white;padding-right: 0.2em;padding-left: 0.2em;position: relative;}#sk-container-id-8 div.sk-item {position: relative;z-index: 1;}#sk-container-id-8 div.sk-parallel {display: flex;align-items: stretch;justify-content: center;background-color: white;position: relative;}#sk-container-id-8 div.sk-item::before, #sk-container-id-8 div.sk-parallel-item::before {content: \"\";position: absolute;border-left: 1px solid gray;box-sizing: border-box;top: 0;bottom: 0;left: 50%;z-index: -1;}#sk-container-id-8 div.sk-parallel-item {display: flex;flex-direction: column;z-index: 1;position: relative;background-color: white;}#sk-container-id-8 div.sk-parallel-item:first-child::after {align-self: flex-end;width: 50%;}#sk-container-id-8 div.sk-parallel-item:last-child::after {align-self: flex-start;width: 50%;}#sk-container-id-8 div.sk-parallel-item:only-child::after {width: 0;}#sk-container-id-8 div.sk-dashed-wrapped {border: 1px dashed gray;margin: 0 0.4em 0.5em 0.4em;box-sizing: border-box;padding-bottom: 0.4em;background-color: white;}#sk-container-id-8 div.sk-label label {font-family: monospace;font-weight: bold;display: inline-block;line-height: 1.2em;}#sk-container-id-8 div.sk-label-container {text-align: center;}#sk-container-id-8 div.sk-container {/* jupyter's `normalize.less` sets `[hidden] { display: none; }` but bootstrap.min.css set `[hidden] { display: none !important; }` so we also need the `!important` here to be able to override the default hidden behavior on the sphinx rendered scikit-learn.org. See: https://github.com/scikit-learn/scikit-learn/issues/21755 */display: inline-block !important;position: relative;}#sk-container-id-8 div.sk-text-repr-fallback {display: none;}</style><div id=\"sk-container-id-8\" class=\"sk-top-container\"><div class=\"sk-text-repr-fallback\"><pre>XGBRegressor(base_score=None, booster=None, callbacks=None,\n",
              "             colsample_bylevel=None, colsample_bynode=None,\n",
              "             colsample_bytree=None, early_stopping_rounds=None,\n",
              "             enable_categorical=False, eval_metric=None, feature_types=None,\n",
              "             gamma=None, gpu_id=None, grow_policy=None, importance_type=None,\n",
              "             interaction_constraints=None, learning_rate=0.1, max_bin=None,\n",
              "             max_cat_threshold=None, max_cat_to_onehot=None,\n",
              "             max_delta_step=None, max_depth=None, max_leaves=None,\n",
              "             min_child_weight=None, missing=nan, monotone_constraints=None,\n",
              "             n_estimators=26, n_jobs=None, num_parallel_tree=None,\n",
              "             predictor=None, random_state=None, ...)</pre><b>In a Jupyter environment, please rerun this cell to show the HTML representation or trust the notebook. <br />On GitHub, the HTML representation is unable to render, please try loading this page with nbviewer.org.</b></div><div class=\"sk-container\" hidden><div class=\"sk-item\"><div class=\"sk-estimator sk-toggleable\"><input class=\"sk-toggleable__control sk-hidden--visually\" id=\"sk-estimator-id-8\" type=\"checkbox\" checked><label for=\"sk-estimator-id-8\" class=\"sk-toggleable__label sk-toggleable__label-arrow\">XGBRegressor</label><div class=\"sk-toggleable__content\"><pre>XGBRegressor(base_score=None, booster=None, callbacks=None,\n",
              "             colsample_bylevel=None, colsample_bynode=None,\n",
              "             colsample_bytree=None, early_stopping_rounds=None,\n",
              "             enable_categorical=False, eval_metric=None, feature_types=None,\n",
              "             gamma=None, gpu_id=None, grow_policy=None, importance_type=None,\n",
              "             interaction_constraints=None, learning_rate=0.1, max_bin=None,\n",
              "             max_cat_threshold=None, max_cat_to_onehot=None,\n",
              "             max_delta_step=None, max_depth=None, max_leaves=None,\n",
              "             min_child_weight=None, missing=nan, monotone_constraints=None,\n",
              "             n_estimators=26, n_jobs=None, num_parallel_tree=None,\n",
              "             predictor=None, random_state=None, ...)</pre></div></div></div></div></div>"
            ]
          },
          "metadata": {},
          "execution_count": 308
        }
      ]
    },
    {
      "cell_type": "code",
      "source": [
        "y_pred = model.predict(test_sparse)\n",
        "from scipy.special import inv_boxcox\n",
        "y_pred = inv_boxcox(y_pred, lam)\n",
        "y_pred"
      ],
      "metadata": {
        "colab": {
          "base_uri": "https://localhost:8080/"
        },
        "id": "I5cDK0h5-Mfo",
        "outputId": "466acbb1-6fc8-4a87-a68c-10c791aff3ef"
      },
      "execution_count": 309,
      "outputs": [
        {
          "output_type": "execute_result",
          "data": {
            "text/plain": [
              "array([ 471.60037, 2031.6063 ,  620.90436, ...,  412.4429 ,  513.6253 ,\n",
              "        433.1077 ], dtype=float32)"
            ]
          },
          "metadata": {},
          "execution_count": 309
        }
      ]
    },
    {
      "cell_type": "code",
      "source": [
        "len(y_pred)"
      ],
      "metadata": {
        "colab": {
          "base_uri": "https://localhost:8080/"
        },
        "id": "8kHpddeLA01n",
        "outputId": "7d174ebd-eeb4-45bd-c3d3-12c85d9d0579"
      },
      "execution_count": 310,
      "outputs": [
        {
          "output_type": "execute_result",
          "data": {
            "text/plain": [
              "734736"
            ]
          },
          "metadata": {},
          "execution_count": 310
        }
      ]
    },
    {
      "cell_type": "code",
      "source": [
        "test=pd.read_csv(\"/content/drive/MyDrive/dataset/test.csv\")\n",
        "sub = test.drop(['TITLE', 'PRODUCT_TYPE_ID','BULLET_POINTS', 'DESCRIPTION'], axis=1)\n",
        "sub['PRODUCT_LENGTH'] = y_pred\n",
        "sub.set_index('PRODUCT_ID', inplace=True)\n",
        "sub.to_csv('submission.csv', header=True)"
      ],
      "metadata": {
        "id": "KOjpYrDQA4SG"
      },
      "execution_count": 311,
      "outputs": []
    },
    {
      "cell_type": "code",
      "source": [
        "sub"
      ],
      "metadata": {
        "colab": {
          "base_uri": "https://localhost:8080/",
          "height": 455
        },
        "id": "G7T3bZc7CbX6",
        "outputId": "ea74645e-4490-4eb2-b6be-64f134994268"
      },
      "execution_count": 312,
      "outputs": [
        {
          "output_type": "execute_result",
          "data": {
            "text/plain": [
              "            PRODUCT_LENGTH\n",
              "PRODUCT_ID                \n",
              "604373          471.600372\n",
              "1729783        2031.606323\n",
              "1871949         620.904358\n",
              "1107571         434.812469\n",
              "624253          471.600372\n",
              "...                    ...\n",
              "921419          568.819336\n",
              "2456362         410.149902\n",
              "841529          412.442902\n",
              "1190194         513.625305\n",
              "1040810         433.107697\n",
              "\n",
              "[734736 rows x 1 columns]"
            ],
            "text/html": [
              "\n",
              "  <div id=\"df-1e7f92ae-9333-4d7f-9af5-8a0aae6ead77\">\n",
              "    <div class=\"colab-df-container\">\n",
              "      <div>\n",
              "<style scoped>\n",
              "    .dataframe tbody tr th:only-of-type {\n",
              "        vertical-align: middle;\n",
              "    }\n",
              "\n",
              "    .dataframe tbody tr th {\n",
              "        vertical-align: top;\n",
              "    }\n",
              "\n",
              "    .dataframe thead th {\n",
              "        text-align: right;\n",
              "    }\n",
              "</style>\n",
              "<table border=\"1\" class=\"dataframe\">\n",
              "  <thead>\n",
              "    <tr style=\"text-align: right;\">\n",
              "      <th></th>\n",
              "      <th>PRODUCT_LENGTH</th>\n",
              "    </tr>\n",
              "    <tr>\n",
              "      <th>PRODUCT_ID</th>\n",
              "      <th></th>\n",
              "    </tr>\n",
              "  </thead>\n",
              "  <tbody>\n",
              "    <tr>\n",
              "      <th>604373</th>\n",
              "      <td>471.600372</td>\n",
              "    </tr>\n",
              "    <tr>\n",
              "      <th>1729783</th>\n",
              "      <td>2031.606323</td>\n",
              "    </tr>\n",
              "    <tr>\n",
              "      <th>1871949</th>\n",
              "      <td>620.904358</td>\n",
              "    </tr>\n",
              "    <tr>\n",
              "      <th>1107571</th>\n",
              "      <td>434.812469</td>\n",
              "    </tr>\n",
              "    <tr>\n",
              "      <th>624253</th>\n",
              "      <td>471.600372</td>\n",
              "    </tr>\n",
              "    <tr>\n",
              "      <th>...</th>\n",
              "      <td>...</td>\n",
              "    </tr>\n",
              "    <tr>\n",
              "      <th>921419</th>\n",
              "      <td>568.819336</td>\n",
              "    </tr>\n",
              "    <tr>\n",
              "      <th>2456362</th>\n",
              "      <td>410.149902</td>\n",
              "    </tr>\n",
              "    <tr>\n",
              "      <th>841529</th>\n",
              "      <td>412.442902</td>\n",
              "    </tr>\n",
              "    <tr>\n",
              "      <th>1190194</th>\n",
              "      <td>513.625305</td>\n",
              "    </tr>\n",
              "    <tr>\n",
              "      <th>1040810</th>\n",
              "      <td>433.107697</td>\n",
              "    </tr>\n",
              "  </tbody>\n",
              "</table>\n",
              "<p>734736 rows × 1 columns</p>\n",
              "</div>\n",
              "      <button class=\"colab-df-convert\" onclick=\"convertToInteractive('df-1e7f92ae-9333-4d7f-9af5-8a0aae6ead77')\"\n",
              "              title=\"Convert this dataframe to an interactive table.\"\n",
              "              style=\"display:none;\">\n",
              "        \n",
              "  <svg xmlns=\"http://www.w3.org/2000/svg\" height=\"24px\"viewBox=\"0 0 24 24\"\n",
              "       width=\"24px\">\n",
              "    <path d=\"M0 0h24v24H0V0z\" fill=\"none\"/>\n",
              "    <path d=\"M18.56 5.44l.94 2.06.94-2.06 2.06-.94-2.06-.94-.94-2.06-.94 2.06-2.06.94zm-11 1L8.5 8.5l.94-2.06 2.06-.94-2.06-.94L8.5 2.5l-.94 2.06-2.06.94zm10 10l.94 2.06.94-2.06 2.06-.94-2.06-.94-.94-2.06-.94 2.06-2.06.94z\"/><path d=\"M17.41 7.96l-1.37-1.37c-.4-.4-.92-.59-1.43-.59-.52 0-1.04.2-1.43.59L10.3 9.45l-7.72 7.72c-.78.78-.78 2.05 0 2.83L4 21.41c.39.39.9.59 1.41.59.51 0 1.02-.2 1.41-.59l7.78-7.78 2.81-2.81c.8-.78.8-2.07 0-2.86zM5.41 20L4 18.59l7.72-7.72 1.47 1.35L5.41 20z\"/>\n",
              "  </svg>\n",
              "      </button>\n",
              "      \n",
              "  <style>\n",
              "    .colab-df-container {\n",
              "      display:flex;\n",
              "      flex-wrap:wrap;\n",
              "      gap: 12px;\n",
              "    }\n",
              "\n",
              "    .colab-df-convert {\n",
              "      background-color: #E8F0FE;\n",
              "      border: none;\n",
              "      border-radius: 50%;\n",
              "      cursor: pointer;\n",
              "      display: none;\n",
              "      fill: #1967D2;\n",
              "      height: 32px;\n",
              "      padding: 0 0 0 0;\n",
              "      width: 32px;\n",
              "    }\n",
              "\n",
              "    .colab-df-convert:hover {\n",
              "      background-color: #E2EBFA;\n",
              "      box-shadow: 0px 1px 2px rgba(60, 64, 67, 0.3), 0px 1px 3px 1px rgba(60, 64, 67, 0.15);\n",
              "      fill: #174EA6;\n",
              "    }\n",
              "\n",
              "    [theme=dark] .colab-df-convert {\n",
              "      background-color: #3B4455;\n",
              "      fill: #D2E3FC;\n",
              "    }\n",
              "\n",
              "    [theme=dark] .colab-df-convert:hover {\n",
              "      background-color: #434B5C;\n",
              "      box-shadow: 0px 1px 3px 1px rgba(0, 0, 0, 0.15);\n",
              "      filter: drop-shadow(0px 1px 2px rgba(0, 0, 0, 0.3));\n",
              "      fill: #FFFFFF;\n",
              "    }\n",
              "  </style>\n",
              "\n",
              "      <script>\n",
              "        const buttonEl =\n",
              "          document.querySelector('#df-1e7f92ae-9333-4d7f-9af5-8a0aae6ead77 button.colab-df-convert');\n",
              "        buttonEl.style.display =\n",
              "          google.colab.kernel.accessAllowed ? 'block' : 'none';\n",
              "\n",
              "        async function convertToInteractive(key) {\n",
              "          const element = document.querySelector('#df-1e7f92ae-9333-4d7f-9af5-8a0aae6ead77');\n",
              "          const dataTable =\n",
              "            await google.colab.kernel.invokeFunction('convertToInteractive',\n",
              "                                                     [key], {});\n",
              "          if (!dataTable) return;\n",
              "\n",
              "          const docLinkHtml = 'Like what you see? Visit the ' +\n",
              "            '<a target=\"_blank\" href=https://colab.research.google.com/notebooks/data_table.ipynb>data table notebook</a>'\n",
              "            + ' to learn more about interactive tables.';\n",
              "          element.innerHTML = '';\n",
              "          dataTable['output_type'] = 'display_data';\n",
              "          await google.colab.output.renderOutput(dataTable, element);\n",
              "          const docLink = document.createElement('div');\n",
              "          docLink.innerHTML = docLinkHtml;\n",
              "          element.appendChild(docLink);\n",
              "        }\n",
              "      </script>\n",
              "    </div>\n",
              "  </div>\n",
              "  "
            ]
          },
          "metadata": {},
          "execution_count": 312
        }
      ]
    }
  ]
}